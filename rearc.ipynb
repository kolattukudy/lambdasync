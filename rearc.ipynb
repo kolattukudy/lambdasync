{
  "nbformat": 4,
  "nbformat_minor": 0,
  "metadata": {
    "colab": {
      "name": "rearc",
      "provenance": [],
      "collapsed_sections": []
    },
    "kernelspec": {
      "name": "python3",
      "display_name": "Python 3"
    },
    "language_info": {
      "name": "python"
    }
  },
  "cells": [
    {
      "cell_type": "code",
      "metadata": {
        "colab": {
          "base_uri": "https://localhost:8080/"
        },
        "id": "z9DttaOCmCuh",
        "outputId": "385ce932-ab19-4695-9fe4-08b97770b620"
      },
      "source": [
        "!pip install boto3"
      ],
      "execution_count": 1,
      "outputs": [
        {
          "output_type": "stream",
          "name": "stdout",
          "text": [
            "Collecting boto3\n",
            "  Downloading boto3-1.18.40-py3-none-any.whl (131 kB)\n",
            "\u001b[K     |████████████████████████████████| 131 kB 7.6 MB/s \n",
            "\u001b[?25hCollecting s3transfer<0.6.0,>=0.5.0\n",
            "  Downloading s3transfer-0.5.0-py3-none-any.whl (79 kB)\n",
            "\u001b[K     |████████████████████████████████| 79 kB 6.6 MB/s \n",
            "\u001b[?25hCollecting jmespath<1.0.0,>=0.7.1\n",
            "  Downloading jmespath-0.10.0-py2.py3-none-any.whl (24 kB)\n",
            "Collecting botocore<1.22.0,>=1.21.40\n",
            "  Downloading botocore-1.21.40-py3-none-any.whl (7.9 MB)\n",
            "\u001b[K     |████████████████████████████████| 7.9 MB 44.6 MB/s \n",
            "\u001b[?25hCollecting urllib3<1.27,>=1.25.4\n",
            "  Downloading urllib3-1.26.6-py2.py3-none-any.whl (138 kB)\n",
            "\u001b[K     |████████████████████████████████| 138 kB 30.9 MB/s \n",
            "\u001b[?25hRequirement already satisfied: python-dateutil<3.0.0,>=2.1 in /usr/local/lib/python3.7/dist-packages (from botocore<1.22.0,>=1.21.40->boto3) (2.8.2)\n",
            "Requirement already satisfied: six>=1.5 in /usr/local/lib/python3.7/dist-packages (from python-dateutil<3.0.0,>=2.1->botocore<1.22.0,>=1.21.40->boto3) (1.15.0)\n",
            "Installing collected packages: urllib3, jmespath, botocore, s3transfer, boto3\n",
            "  Attempting uninstall: urllib3\n",
            "    Found existing installation: urllib3 1.24.3\n",
            "    Uninstalling urllib3-1.24.3:\n",
            "      Successfully uninstalled urllib3-1.24.3\n",
            "\u001b[31mERROR: pip's dependency resolver does not currently take into account all the packages that are installed. This behaviour is the source of the following dependency conflicts.\n",
            "requests 2.23.0 requires urllib3!=1.25.0,!=1.25.1,<1.26,>=1.21.1, but you have urllib3 1.26.6 which is incompatible.\n",
            "datascience 0.10.6 requires folium==0.2.1, but you have folium 0.8.3 which is incompatible.\u001b[0m\n",
            "Successfully installed boto3-1.18.40 botocore-1.21.40 jmespath-0.10.0 s3transfer-0.5.0 urllib3-1.26.6\n"
          ]
        }
      ]
    },
    {
      "cell_type": "code",
      "metadata": {
        "id": "EQlFstSl4Azs"
      },
      "source": [
        "import boto3\n",
        "\n",
        "BUCKET_NAME = 'kkudylambdazips' # replace with your bucket name\n",
        "\n",
        "# enter authentication credentials\n",
        "s3 = boto3.resource('s3', aws_access_key_id = '******', \n",
        "                          aws_secret_access_key= '******')\n",
        "KEY = 'usdata.json' # replace with your object key\n",
        "file =s3.Bucket(BUCKET_NAME).download_file(KEY, 'usdata.json')\n",
        "\n",
        "\n",
        "  "
      ],
      "execution_count": 2,
      "outputs": []
    },
    {
      "cell_type": "code",
      "metadata": {
        "colab": {
          "base_uri": "https://localhost:8080/",
          "height": 266
        },
        "id": "sY7SNP-unH5k",
        "outputId": "a57016e3-b96f-4d25-bc5e-14dbd30e92b0"
      },
      "source": [
        "\n",
        "import json\n",
        "import pandas as pd\n",
        "from pandas.io.json import json_normalize\n",
        "with open('usdata.json') as json_data:\n",
        "    data = json.load(json_data)\n",
        "df = pd.DataFrame.from_dict(data['data'])\n",
        "\n",
        "df.head(10)"
      ],
      "execution_count": 3,
      "outputs": [
        {
          "output_type": "execute_result",
          "data": {
            "text/html": [
              "<div>\n",
              "<style scoped>\n",
              "    .dataframe tbody tr th:only-of-type {\n",
              "        vertical-align: middle;\n",
              "    }\n",
              "\n",
              "    .dataframe tbody tr th {\n",
              "        vertical-align: top;\n",
              "    }\n",
              "\n",
              "    .dataframe thead th {\n",
              "        text-align: right;\n",
              "    }\n",
              "</style>\n",
              "<table border=\"1\" class=\"dataframe\">\n",
              "  <thead>\n",
              "    <tr style=\"text-align: right;\">\n",
              "      <th></th>\n",
              "      <th>ID Nation</th>\n",
              "      <th>Nation</th>\n",
              "      <th>ID Year</th>\n",
              "      <th>Year</th>\n",
              "      <th>Population</th>\n",
              "      <th>Slug Nation</th>\n",
              "    </tr>\n",
              "  </thead>\n",
              "  <tbody>\n",
              "    <tr>\n",
              "      <th>0</th>\n",
              "      <td>01000US</td>\n",
              "      <td>United States</td>\n",
              "      <td>2019</td>\n",
              "      <td>2019</td>\n",
              "      <td>328239523</td>\n",
              "      <td>united-states</td>\n",
              "    </tr>\n",
              "    <tr>\n",
              "      <th>1</th>\n",
              "      <td>01000US</td>\n",
              "      <td>United States</td>\n",
              "      <td>2018</td>\n",
              "      <td>2018</td>\n",
              "      <td>327167439</td>\n",
              "      <td>united-states</td>\n",
              "    </tr>\n",
              "    <tr>\n",
              "      <th>2</th>\n",
              "      <td>01000US</td>\n",
              "      <td>United States</td>\n",
              "      <td>2017</td>\n",
              "      <td>2017</td>\n",
              "      <td>325719178</td>\n",
              "      <td>united-states</td>\n",
              "    </tr>\n",
              "    <tr>\n",
              "      <th>3</th>\n",
              "      <td>01000US</td>\n",
              "      <td>United States</td>\n",
              "      <td>2016</td>\n",
              "      <td>2016</td>\n",
              "      <td>323127515</td>\n",
              "      <td>united-states</td>\n",
              "    </tr>\n",
              "    <tr>\n",
              "      <th>4</th>\n",
              "      <td>01000US</td>\n",
              "      <td>United States</td>\n",
              "      <td>2015</td>\n",
              "      <td>2015</td>\n",
              "      <td>321418821</td>\n",
              "      <td>united-states</td>\n",
              "    </tr>\n",
              "    <tr>\n",
              "      <th>5</th>\n",
              "      <td>01000US</td>\n",
              "      <td>United States</td>\n",
              "      <td>2014</td>\n",
              "      <td>2014</td>\n",
              "      <td>318857056</td>\n",
              "      <td>united-states</td>\n",
              "    </tr>\n",
              "    <tr>\n",
              "      <th>6</th>\n",
              "      <td>01000US</td>\n",
              "      <td>United States</td>\n",
              "      <td>2013</td>\n",
              "      <td>2013</td>\n",
              "      <td>316128839</td>\n",
              "      <td>united-states</td>\n",
              "    </tr>\n",
              "  </tbody>\n",
              "</table>\n",
              "</div>"
            ],
            "text/plain": [
              "  ID Nation         Nation  ID Year  Year  Population    Slug Nation\n",
              "0   01000US  United States     2019  2019   328239523  united-states\n",
              "1   01000US  United States     2018  2018   327167439  united-states\n",
              "2   01000US  United States     2017  2017   325719178  united-states\n",
              "3   01000US  United States     2016  2016   323127515  united-states\n",
              "4   01000US  United States     2015  2015   321418821  united-states\n",
              "5   01000US  United States     2014  2014   318857056  united-states\n",
              "6   01000US  United States     2013  2013   316128839  united-states"
            ]
          },
          "metadata": {},
          "execution_count": 3
        }
      ]
    },
    {
      "cell_type": "code",
      "metadata": {
        "colab": {
          "base_uri": "https://localhost:8080/"
        },
        "id": "Qi2VDvUc-ruw",
        "outputId": "3e653246-25e6-47b7-9646-db461ed36da3"
      },
      "source": [
        "df.columns=df.columns.str.lower()\n",
        "df.columns"
      ],
      "execution_count": 4,
      "outputs": [
        {
          "output_type": "execute_result",
          "data": {
            "text/plain": [
              "Index(['id nation', 'nation', 'id year', 'year', 'population', 'slug nation'], dtype='object')"
            ]
          },
          "metadata": {},
          "execution_count": 4
        }
      ]
    },
    {
      "cell_type": "code",
      "metadata": {
        "id": "iL_hPNXFAmF8"
      },
      "source": [
        "def std(x): return np.std(x)\n"
      ],
      "execution_count": 5,
      "outputs": []
    },
    {
      "cell_type": "code",
      "metadata": {
        "colab": {
          "base_uri": "https://localhost:8080/",
          "height": 266
        },
        "id": "gr2Jo2sU9q-Z",
        "outputId": "73bd4a92-b817-47b8-e937-451d0fb6303e"
      },
      "source": [
        "import numpy as np\n",
        "gdf=df.groupby('year')[\"population\"].agg([np.mean, np.std]).fillna(0)\n",
        "gdf[gdf.index.isin(['2013','2014','2015','2016','2017','2018'])].head(10)"
      ],
      "execution_count": 6,
      "outputs": [
        {
          "output_type": "execute_result",
          "data": {
            "text/html": [
              "<div>\n",
              "<style scoped>\n",
              "    .dataframe tbody tr th:only-of-type {\n",
              "        vertical-align: middle;\n",
              "    }\n",
              "\n",
              "    .dataframe tbody tr th {\n",
              "        vertical-align: top;\n",
              "    }\n",
              "\n",
              "    .dataframe thead th {\n",
              "        text-align: right;\n",
              "    }\n",
              "</style>\n",
              "<table border=\"1\" class=\"dataframe\">\n",
              "  <thead>\n",
              "    <tr style=\"text-align: right;\">\n",
              "      <th></th>\n",
              "      <th>mean</th>\n",
              "      <th>std</th>\n",
              "    </tr>\n",
              "    <tr>\n",
              "      <th>year</th>\n",
              "      <th></th>\n",
              "      <th></th>\n",
              "    </tr>\n",
              "  </thead>\n",
              "  <tbody>\n",
              "    <tr>\n",
              "      <th>2013</th>\n",
              "      <td>316128839</td>\n",
              "      <td>0.0</td>\n",
              "    </tr>\n",
              "    <tr>\n",
              "      <th>2014</th>\n",
              "      <td>318857056</td>\n",
              "      <td>0.0</td>\n",
              "    </tr>\n",
              "    <tr>\n",
              "      <th>2015</th>\n",
              "      <td>321418821</td>\n",
              "      <td>0.0</td>\n",
              "    </tr>\n",
              "    <tr>\n",
              "      <th>2016</th>\n",
              "      <td>323127515</td>\n",
              "      <td>0.0</td>\n",
              "    </tr>\n",
              "    <tr>\n",
              "      <th>2017</th>\n",
              "      <td>325719178</td>\n",
              "      <td>0.0</td>\n",
              "    </tr>\n",
              "    <tr>\n",
              "      <th>2018</th>\n",
              "      <td>327167439</td>\n",
              "      <td>0.0</td>\n",
              "    </tr>\n",
              "  </tbody>\n",
              "</table>\n",
              "</div>"
            ],
            "text/plain": [
              "           mean  std\n",
              "year                \n",
              "2013  316128839  0.0\n",
              "2014  318857056  0.0\n",
              "2015  321418821  0.0\n",
              "2016  323127515  0.0\n",
              "2017  325719178  0.0\n",
              "2018  327167439  0.0"
            ]
          },
          "metadata": {},
          "execution_count": 6
        }
      ]
    },
    {
      "cell_type": "code",
      "metadata": {
        "id": "R8DohRMLuB-d"
      },
      "source": [
        "import os\n",
        "folder='/pub/time.series/pr/'\n",
        "my_bucket = s3.Bucket(BUCKET_NAME)\n",
        "# download file into current directory\n",
        "objects = my_bucket.objects.filter(Prefix=folder)\n",
        "for obj in objects:\n",
        "    path, filename = os.path.split(obj.key)\n",
        "    my_bucket.download_file(obj.key, filename)\n"
      ],
      "execution_count": 7,
      "outputs": []
    },
    {
      "cell_type": "code",
      "metadata": {
        "colab": {
          "base_uri": "https://localhost:8080/",
          "height": 359
        },
        "id": "spavOGqd5jAr",
        "outputId": "0dab0283-f104-43a5-a94c-c9d4fb5459a4"
      },
      "source": [
        "df_series = pd.read_csv('pr.data.0.Current',  sep='\\t')\n",
        "df_series.head(10)"
      ],
      "execution_count": 8,
      "outputs": [
        {
          "output_type": "execute_result",
          "data": {
            "text/html": [
              "<div>\n",
              "<style scoped>\n",
              "    .dataframe tbody tr th:only-of-type {\n",
              "        vertical-align: middle;\n",
              "    }\n",
              "\n",
              "    .dataframe tbody tr th {\n",
              "        vertical-align: top;\n",
              "    }\n",
              "\n",
              "    .dataframe thead th {\n",
              "        text-align: right;\n",
              "    }\n",
              "</style>\n",
              "<table border=\"1\" class=\"dataframe\">\n",
              "  <thead>\n",
              "    <tr style=\"text-align: right;\">\n",
              "      <th></th>\n",
              "      <th>series_id</th>\n",
              "      <th>year</th>\n",
              "      <th>period</th>\n",
              "      <th>value</th>\n",
              "      <th>footnote_codes</th>\n",
              "    </tr>\n",
              "  </thead>\n",
              "  <tbody>\n",
              "    <tr>\n",
              "      <th>0</th>\n",
              "      <td>PRS30006011</td>\n",
              "      <td>1995</td>\n",
              "      <td>Q01</td>\n",
              "      <td>2.6</td>\n",
              "      <td>NaN</td>\n",
              "    </tr>\n",
              "    <tr>\n",
              "      <th>1</th>\n",
              "      <td>PRS30006011</td>\n",
              "      <td>1995</td>\n",
              "      <td>Q02</td>\n",
              "      <td>2.1</td>\n",
              "      <td>NaN</td>\n",
              "    </tr>\n",
              "    <tr>\n",
              "      <th>2</th>\n",
              "      <td>PRS30006011</td>\n",
              "      <td>1995</td>\n",
              "      <td>Q03</td>\n",
              "      <td>0.9</td>\n",
              "      <td>NaN</td>\n",
              "    </tr>\n",
              "    <tr>\n",
              "      <th>3</th>\n",
              "      <td>PRS30006011</td>\n",
              "      <td>1995</td>\n",
              "      <td>Q04</td>\n",
              "      <td>0.1</td>\n",
              "      <td>NaN</td>\n",
              "    </tr>\n",
              "    <tr>\n",
              "      <th>4</th>\n",
              "      <td>PRS30006011</td>\n",
              "      <td>1995</td>\n",
              "      <td>Q05</td>\n",
              "      <td>1.4</td>\n",
              "      <td>NaN</td>\n",
              "    </tr>\n",
              "    <tr>\n",
              "      <th>5</th>\n",
              "      <td>PRS30006011</td>\n",
              "      <td>1996</td>\n",
              "      <td>Q01</td>\n",
              "      <td>-0.2</td>\n",
              "      <td>NaN</td>\n",
              "    </tr>\n",
              "    <tr>\n",
              "      <th>6</th>\n",
              "      <td>PRS30006011</td>\n",
              "      <td>1996</td>\n",
              "      <td>Q02</td>\n",
              "      <td>-0.3</td>\n",
              "      <td>NaN</td>\n",
              "    </tr>\n",
              "    <tr>\n",
              "      <th>7</th>\n",
              "      <td>PRS30006011</td>\n",
              "      <td>1996</td>\n",
              "      <td>Q03</td>\n",
              "      <td>-0.1</td>\n",
              "      <td>NaN</td>\n",
              "    </tr>\n",
              "    <tr>\n",
              "      <th>8</th>\n",
              "      <td>PRS30006011</td>\n",
              "      <td>1996</td>\n",
              "      <td>Q04</td>\n",
              "      <td>0.2</td>\n",
              "      <td>NaN</td>\n",
              "    </tr>\n",
              "    <tr>\n",
              "      <th>9</th>\n",
              "      <td>PRS30006011</td>\n",
              "      <td>1996</td>\n",
              "      <td>Q05</td>\n",
              "      <td>-0.1</td>\n",
              "      <td>NaN</td>\n",
              "    </tr>\n",
              "  </tbody>\n",
              "</table>\n",
              "</div>"
            ],
            "text/plain": [
              "   series_id          year period         value footnote_codes\n",
              "0  PRS30006011        1995    Q01           2.6            NaN\n",
              "1  PRS30006011        1995    Q02           2.1            NaN\n",
              "2  PRS30006011        1995    Q03           0.9            NaN\n",
              "3  PRS30006011        1995    Q04           0.1            NaN\n",
              "4  PRS30006011        1995    Q05           1.4            NaN\n",
              "5  PRS30006011        1996    Q01          -0.2            NaN\n",
              "6  PRS30006011        1996    Q02          -0.3            NaN\n",
              "7  PRS30006011        1996    Q03          -0.1            NaN\n",
              "8  PRS30006011        1996    Q04           0.2            NaN\n",
              "9  PRS30006011        1996    Q05          -0.1            NaN"
            ]
          },
          "metadata": {},
          "execution_count": 8
        }
      ]
    },
    {
      "cell_type": "code",
      "metadata": {
        "colab": {
          "base_uri": "https://localhost:8080/"
        },
        "id": "waYlhVUkTor2",
        "outputId": "f1dc8c09-66f1-45eb-d7d5-e0d8f20ff0b3"
      },
      "source": [
        "df_series.columns = df_series.columns.str.strip()\n",
        "df_series.columns"
      ],
      "execution_count": 9,
      "outputs": [
        {
          "output_type": "execute_result",
          "data": {
            "text/plain": [
              "Index(['series_id', 'year', 'period', 'value', 'footnote_codes'], dtype='object')"
            ]
          },
          "metadata": {},
          "execution_count": 9
        }
      ]
    },
    {
      "cell_type": "code",
      "metadata": {
        "colab": {
          "base_uri": "https://localhost:8080/",
          "height": 359
        },
        "id": "E1FuhHFyHB_H",
        "outputId": "cd3ad204-6212-40a8-ae4a-8be08954f863"
      },
      "source": [
        "max_grp=df_series.loc[df_series.groupby(['series_id','year'])['value'].idxmax()]\n",
        "max_filter=max_grp[['series_id','year','value']]\n",
        "max_filter.head(10)"
      ],
      "execution_count": 10,
      "outputs": [
        {
          "output_type": "execute_result",
          "data": {
            "text/html": [
              "<div>\n",
              "<style scoped>\n",
              "    .dataframe tbody tr th:only-of-type {\n",
              "        vertical-align: middle;\n",
              "    }\n",
              "\n",
              "    .dataframe tbody tr th {\n",
              "        vertical-align: top;\n",
              "    }\n",
              "\n",
              "    .dataframe thead th {\n",
              "        text-align: right;\n",
              "    }\n",
              "</style>\n",
              "<table border=\"1\" class=\"dataframe\">\n",
              "  <thead>\n",
              "    <tr style=\"text-align: right;\">\n",
              "      <th></th>\n",
              "      <th>series_id</th>\n",
              "      <th>year</th>\n",
              "      <th>value</th>\n",
              "    </tr>\n",
              "  </thead>\n",
              "  <tbody>\n",
              "    <tr>\n",
              "      <th>0</th>\n",
              "      <td>PRS30006011</td>\n",
              "      <td>1995</td>\n",
              "      <td>2.6</td>\n",
              "    </tr>\n",
              "    <tr>\n",
              "      <th>8</th>\n",
              "      <td>PRS30006011</td>\n",
              "      <td>1996</td>\n",
              "      <td>0.2</td>\n",
              "    </tr>\n",
              "    <tr>\n",
              "      <th>13</th>\n",
              "      <td>PRS30006011</td>\n",
              "      <td>1997</td>\n",
              "      <td>1.5</td>\n",
              "    </tr>\n",
              "    <tr>\n",
              "      <th>15</th>\n",
              "      <td>PRS30006011</td>\n",
              "      <td>1998</td>\n",
              "      <td>1.6</td>\n",
              "    </tr>\n",
              "    <tr>\n",
              "      <th>22</th>\n",
              "      <td>PRS30006011</td>\n",
              "      <td>1999</td>\n",
              "      <td>-1.1</td>\n",
              "    </tr>\n",
              "    <tr>\n",
              "      <th>26</th>\n",
              "      <td>PRS30006011</td>\n",
              "      <td>2000</td>\n",
              "      <td>0.3</td>\n",
              "    </tr>\n",
              "    <tr>\n",
              "      <th>30</th>\n",
              "      <td>PRS30006011</td>\n",
              "      <td>2001</td>\n",
              "      <td>-1.4</td>\n",
              "    </tr>\n",
              "    <tr>\n",
              "      <th>38</th>\n",
              "      <td>PRS30006011</td>\n",
              "      <td>2002</td>\n",
              "      <td>-5.2</td>\n",
              "    </tr>\n",
              "    <tr>\n",
              "      <th>40</th>\n",
              "      <td>PRS30006011</td>\n",
              "      <td>2003</td>\n",
              "      <td>-4.4</td>\n",
              "    </tr>\n",
              "    <tr>\n",
              "      <th>48</th>\n",
              "      <td>PRS30006011</td>\n",
              "      <td>2004</td>\n",
              "      <td>0.1</td>\n",
              "    </tr>\n",
              "  </tbody>\n",
              "</table>\n",
              "</div>"
            ],
            "text/plain": [
              "            series_id  year  value\n",
              "0   PRS30006011        1995    2.6\n",
              "8   PRS30006011        1996    0.2\n",
              "13  PRS30006011        1997    1.5\n",
              "15  PRS30006011        1998    1.6\n",
              "22  PRS30006011        1999   -1.1\n",
              "26  PRS30006011        2000    0.3\n",
              "30  PRS30006011        2001   -1.4\n",
              "38  PRS30006011        2002   -5.2\n",
              "40  PRS30006011        2003   -4.4\n",
              "48  PRS30006011        2004    0.1"
            ]
          },
          "metadata": {},
          "execution_count": 10
        }
      ]
    },
    {
      "cell_type": "code",
      "metadata": {
        "id": "mK2qX-DcMoKX"
      },
      "source": [
        "#Using both dataframes from Part 1 and Part 2, generate a report that will provide \n",
        "#the value for series_id = PRS30006032 and period = Q01 and the population for that\n",
        "# given year (if available in the population dataset)\n"
      ],
      "execution_count": 11,
      "outputs": []
    },
    {
      "cell_type": "markdown",
      "metadata": {
        "id": "ykWYPrFoF1__"
      },
      "source": [
        "series_id\tyear\tperiod\tvalue\tPopulation\n",
        "\n",
        "\n",
        "PRS30006032\t2018\tQ01\t1.9\t327167439"
      ]
    },
    {
      "cell_type": "code",
      "metadata": {
        "colab": {
          "base_uri": "https://localhost:8080/"
        },
        "id": "Dp_pVyjeJdED",
        "outputId": "0924b944-5fe2-4e68-f518-cfe836475978"
      },
      "source": [
        "df.info()\n"
      ],
      "execution_count": 12,
      "outputs": [
        {
          "output_type": "stream",
          "name": "stdout",
          "text": [
            "<class 'pandas.core.frame.DataFrame'>\n",
            "RangeIndex: 7 entries, 0 to 6\n",
            "Data columns (total 6 columns):\n",
            " #   Column       Non-Null Count  Dtype \n",
            "---  ------       --------------  ----- \n",
            " 0   id nation    7 non-null      object\n",
            " 1   nation       7 non-null      object\n",
            " 2   id year      7 non-null      int64 \n",
            " 3   year         7 non-null      object\n",
            " 4   population   7 non-null      int64 \n",
            " 5   slug nation  7 non-null      object\n",
            "dtypes: int64(2), object(4)\n",
            "memory usage: 464.0+ bytes\n"
          ]
        }
      ]
    },
    {
      "cell_type": "code",
      "metadata": {
        "colab": {
          "base_uri": "https://localhost:8080/"
        },
        "id": "vMqWGiK6JjYg",
        "outputId": "5c928ca4-8889-40a3-ca6b-12d3b1f4eff3"
      },
      "source": [
        "df_series.info()"
      ],
      "execution_count": 13,
      "outputs": [
        {
          "output_type": "stream",
          "name": "stdout",
          "text": [
            "<class 'pandas.core.frame.DataFrame'>\n",
            "RangeIndex: 32409 entries, 0 to 32408\n",
            "Data columns (total 5 columns):\n",
            " #   Column          Non-Null Count  Dtype  \n",
            "---  ------          --------------  -----  \n",
            " 0   series_id       32409 non-null  object \n",
            " 1   year            32409 non-null  int64  \n",
            " 2   period          32409 non-null  object \n",
            " 3   value           32409 non-null  float64\n",
            " 4   footnote_codes  193 non-null    object \n",
            "dtypes: float64(1), int64(1), object(3)\n",
            "memory usage: 1.2+ MB\n"
          ]
        }
      ]
    },
    {
      "cell_type": "code",
      "metadata": {
        "colab": {
          "base_uri": "https://localhost:8080/"
        },
        "id": "rCBzYvsJJxzU",
        "outputId": "bbe4117e-d1b0-4a43-f844-ca639d47b6f2"
      },
      "source": [
        "df['year'] = df['year'].astype('int64')\n",
        "df.info()"
      ],
      "execution_count": 14,
      "outputs": [
        {
          "output_type": "stream",
          "name": "stdout",
          "text": [
            "<class 'pandas.core.frame.DataFrame'>\n",
            "RangeIndex: 7 entries, 0 to 6\n",
            "Data columns (total 6 columns):\n",
            " #   Column       Non-Null Count  Dtype \n",
            "---  ------       --------------  ----- \n",
            " 0   id nation    7 non-null      object\n",
            " 1   nation       7 non-null      object\n",
            " 2   id year      7 non-null      int64 \n",
            " 3   year         7 non-null      int64 \n",
            " 4   population   7 non-null      int64 \n",
            " 5   slug nation  7 non-null      object\n",
            "dtypes: int64(3), object(3)\n",
            "memory usage: 464.0+ bytes\n"
          ]
        }
      ]
    },
    {
      "cell_type": "code",
      "metadata": {
        "colab": {
          "base_uri": "https://localhost:8080/",
          "height": 419
        },
        "id": "pJRhdHoNU8XS",
        "outputId": "fe92bdb0-4301-4e93-d3d2-b2fd9d16c21e"
      },
      "source": [
        "#series_id = PRS30006032 and period = Q01\n",
        "\n",
        "inner_merged_total = pd.merge(df_series, df, on=[\"year\"])\n",
        "inner_merged_total"
      ],
      "execution_count": 15,
      "outputs": [
        {
          "output_type": "execute_result",
          "data": {
            "text/html": [
              "<div>\n",
              "<style scoped>\n",
              "    .dataframe tbody tr th:only-of-type {\n",
              "        vertical-align: middle;\n",
              "    }\n",
              "\n",
              "    .dataframe tbody tr th {\n",
              "        vertical-align: top;\n",
              "    }\n",
              "\n",
              "    .dataframe thead th {\n",
              "        text-align: right;\n",
              "    }\n",
              "</style>\n",
              "<table border=\"1\" class=\"dataframe\">\n",
              "  <thead>\n",
              "    <tr style=\"text-align: right;\">\n",
              "      <th></th>\n",
              "      <th>series_id</th>\n",
              "      <th>year</th>\n",
              "      <th>period</th>\n",
              "      <th>value</th>\n",
              "      <th>footnote_codes</th>\n",
              "      <th>id nation</th>\n",
              "      <th>nation</th>\n",
              "      <th>id year</th>\n",
              "      <th>population</th>\n",
              "      <th>slug nation</th>\n",
              "    </tr>\n",
              "  </thead>\n",
              "  <tbody>\n",
              "    <tr>\n",
              "      <th>0</th>\n",
              "      <td>PRS30006011</td>\n",
              "      <td>2013</td>\n",
              "      <td>Q01</td>\n",
              "      <td>1.300</td>\n",
              "      <td>NaN</td>\n",
              "      <td>01000US</td>\n",
              "      <td>United States</td>\n",
              "      <td>2013</td>\n",
              "      <td>316128839</td>\n",
              "      <td>united-states</td>\n",
              "    </tr>\n",
              "    <tr>\n",
              "      <th>1</th>\n",
              "      <td>PRS30006011</td>\n",
              "      <td>2013</td>\n",
              "      <td>Q02</td>\n",
              "      <td>0.200</td>\n",
              "      <td>NaN</td>\n",
              "      <td>01000US</td>\n",
              "      <td>United States</td>\n",
              "      <td>2013</td>\n",
              "      <td>316128839</td>\n",
              "      <td>united-states</td>\n",
              "    </tr>\n",
              "    <tr>\n",
              "      <th>2</th>\n",
              "      <td>PRS30006011</td>\n",
              "      <td>2013</td>\n",
              "      <td>Q03</td>\n",
              "      <td>0.200</td>\n",
              "      <td>NaN</td>\n",
              "      <td>01000US</td>\n",
              "      <td>United States</td>\n",
              "      <td>2013</td>\n",
              "      <td>316128839</td>\n",
              "      <td>united-states</td>\n",
              "    </tr>\n",
              "    <tr>\n",
              "      <th>3</th>\n",
              "      <td>PRS30006011</td>\n",
              "      <td>2013</td>\n",
              "      <td>Q04</td>\n",
              "      <td>0.700</td>\n",
              "      <td>NaN</td>\n",
              "      <td>01000US</td>\n",
              "      <td>United States</td>\n",
              "      <td>2013</td>\n",
              "      <td>316128839</td>\n",
              "      <td>united-states</td>\n",
              "    </tr>\n",
              "    <tr>\n",
              "      <th>4</th>\n",
              "      <td>PRS30006011</td>\n",
              "      <td>2013</td>\n",
              "      <td>Q05</td>\n",
              "      <td>0.600</td>\n",
              "      <td>NaN</td>\n",
              "      <td>01000US</td>\n",
              "      <td>United States</td>\n",
              "      <td>2013</td>\n",
              "      <td>316128839</td>\n",
              "      <td>united-states</td>\n",
              "    </tr>\n",
              "    <tr>\n",
              "      <th>...</th>\n",
              "      <td>...</td>\n",
              "      <td>...</td>\n",
              "      <td>...</td>\n",
              "      <td>...</td>\n",
              "      <td>...</td>\n",
              "      <td>...</td>\n",
              "      <td>...</td>\n",
              "      <td>...</td>\n",
              "      <td>...</td>\n",
              "      <td>...</td>\n",
              "    </tr>\n",
              "    <tr>\n",
              "      <th>8605</th>\n",
              "      <td>PRS88003203</td>\n",
              "      <td>2019</td>\n",
              "      <td>Q01</td>\n",
              "      <td>112.294</td>\n",
              "      <td>NaN</td>\n",
              "      <td>01000US</td>\n",
              "      <td>United States</td>\n",
              "      <td>2019</td>\n",
              "      <td>328239523</td>\n",
              "      <td>united-states</td>\n",
              "    </tr>\n",
              "    <tr>\n",
              "      <th>8606</th>\n",
              "      <td>PRS88003203</td>\n",
              "      <td>2019</td>\n",
              "      <td>Q02</td>\n",
              "      <td>112.627</td>\n",
              "      <td>NaN</td>\n",
              "      <td>01000US</td>\n",
              "      <td>United States</td>\n",
              "      <td>2019</td>\n",
              "      <td>328239523</td>\n",
              "      <td>united-states</td>\n",
              "    </tr>\n",
              "    <tr>\n",
              "      <th>8607</th>\n",
              "      <td>PRS88003203</td>\n",
              "      <td>2019</td>\n",
              "      <td>Q03</td>\n",
              "      <td>113.182</td>\n",
              "      <td>NaN</td>\n",
              "      <td>01000US</td>\n",
              "      <td>United States</td>\n",
              "      <td>2019</td>\n",
              "      <td>328239523</td>\n",
              "      <td>united-states</td>\n",
              "    </tr>\n",
              "    <tr>\n",
              "      <th>8608</th>\n",
              "      <td>PRS88003203</td>\n",
              "      <td>2019</td>\n",
              "      <td>Q04</td>\n",
              "      <td>113.421</td>\n",
              "      <td>NaN</td>\n",
              "      <td>01000US</td>\n",
              "      <td>United States</td>\n",
              "      <td>2019</td>\n",
              "      <td>328239523</td>\n",
              "      <td>united-states</td>\n",
              "    </tr>\n",
              "    <tr>\n",
              "      <th>8609</th>\n",
              "      <td>PRS88003203</td>\n",
              "      <td>2019</td>\n",
              "      <td>Q05</td>\n",
              "      <td>112.883</td>\n",
              "      <td>NaN</td>\n",
              "      <td>01000US</td>\n",
              "      <td>United States</td>\n",
              "      <td>2019</td>\n",
              "      <td>328239523</td>\n",
              "      <td>united-states</td>\n",
              "    </tr>\n",
              "  </tbody>\n",
              "</table>\n",
              "<p>8610 rows × 10 columns</p>\n",
              "</div>"
            ],
            "text/plain": [
              "              series_id  year period  ...  id year population    slug nation\n",
              "0     PRS30006011        2013    Q01  ...     2013  316128839  united-states\n",
              "1     PRS30006011        2013    Q02  ...     2013  316128839  united-states\n",
              "2     PRS30006011        2013    Q03  ...     2013  316128839  united-states\n",
              "3     PRS30006011        2013    Q04  ...     2013  316128839  united-states\n",
              "4     PRS30006011        2013    Q05  ...     2013  316128839  united-states\n",
              "...                 ...   ...    ...  ...      ...        ...            ...\n",
              "8605  PRS88003203        2019    Q01  ...     2019  328239523  united-states\n",
              "8606  PRS88003203        2019    Q02  ...     2019  328239523  united-states\n",
              "8607  PRS88003203        2019    Q03  ...     2019  328239523  united-states\n",
              "8608  PRS88003203        2019    Q04  ...     2019  328239523  united-states\n",
              "8609  PRS88003203        2019    Q05  ...     2019  328239523  united-states\n",
              "\n",
              "[8610 rows x 10 columns]"
            ]
          },
          "metadata": {},
          "execution_count": 15
        }
      ]
    },
    {
      "cell_type": "code",
      "metadata": {
        "colab": {
          "base_uri": "https://localhost:8080/"
        },
        "id": "GyBJp5AOKeVJ",
        "outputId": "36e182e0-fb01-4c4e-b0d9-ce7925235c77"
      },
      "source": [
        "dfin=inner_merged_total.convert_dtypes()\n",
        "dfin.info()"
      ],
      "execution_count": 18,
      "outputs": [
        {
          "output_type": "stream",
          "name": "stdout",
          "text": [
            "<class 'pandas.core.frame.DataFrame'>\n",
            "Int64Index: 8610 entries, 0 to 8609\n",
            "Data columns (total 10 columns):\n",
            " #   Column          Non-Null Count  Dtype  \n",
            "---  ------          --------------  -----  \n",
            " 0   series_id       8610 non-null   string \n",
            " 1   year            8610 non-null   Int64  \n",
            " 2   period          8610 non-null   string \n",
            " 3   value           8610 non-null   float64\n",
            " 4   footnote_codes  0 non-null      Int64  \n",
            " 5   id nation       8610 non-null   string \n",
            " 6   nation          8610 non-null   string \n",
            " 7   id year         8610 non-null   Int64  \n",
            " 8   population      8610 non-null   Int64  \n",
            " 9   slug nation     8610 non-null   string \n",
            "dtypes: Int64(4), float64(1), string(5)\n",
            "memory usage: 773.6 KB\n"
          ]
        }
      ]
    },
    {
      "cell_type": "code",
      "metadata": {
        "colab": {
          "base_uri": "https://localhost:8080/"
        },
        "id": "DZ-DtFU_Naai",
        "outputId": "0a38c3eb-bf85-4235-acbe-c7bfb0e82bf0"
      },
      "source": [
        "any(char.isspace() for char in dfin.iloc[1][0])"
      ],
      "execution_count": 19,
      "outputs": [
        {
          "output_type": "execute_result",
          "data": {
            "text/plain": [
              "True"
            ]
          },
          "metadata": {},
          "execution_count": 19
        }
      ]
    },
    {
      "cell_type": "code",
      "metadata": {
        "colab": {
          "base_uri": "https://localhost:8080/",
          "height": 35
        },
        "id": "mu6S0KZuQn5L",
        "outputId": "698e0045-c55d-446c-d4b8-d2a6c02c4ca0"
      },
      "source": [
        "dfin.iloc[1][0]"
      ],
      "execution_count": 20,
      "outputs": [
        {
          "output_type": "execute_result",
          "data": {
            "application/vnd.google.colaboratory.intrinsic+json": {
              "type": "string"
            },
            "text/plain": [
              "'PRS30006011      '"
            ]
          },
          "metadata": {},
          "execution_count": 20
        }
      ]
    },
    {
      "cell_type": "code",
      "metadata": {
        "colab": {
          "base_uri": "https://localhost:8080/",
          "height": 35
        },
        "id": "7jGOnhhjRDa-",
        "outputId": "d6c9e7e1-9152-460a-e7f8-cee1dad210be"
      },
      "source": [
        "dfin['series_id'] = dfin['series_id'].str.strip()\n",
        "dfin.iloc[1][0]"
      ],
      "execution_count": 21,
      "outputs": [
        {
          "output_type": "execute_result",
          "data": {
            "application/vnd.google.colaboratory.intrinsic+json": {
              "type": "string"
            },
            "text/plain": [
              "'PRS30006011'"
            ]
          },
          "metadata": {},
          "execution_count": 21
        }
      ]
    },
    {
      "cell_type": "code",
      "metadata": {
        "colab": {
          "base_uri": "https://localhost:8080/",
          "height": 266
        },
        "id": "suK_9ThGMmEw",
        "outputId": "52fd4574-a9cc-42e0-d630-41222a704a31"
      },
      "source": [
        "dfin.loc[(dfin['series_id']== 'PRS88003203') & (dfin['period']== 'Q01') ][['series_id',\t'year',\t'period',\t'value',\t'population']]"
      ],
      "execution_count": 22,
      "outputs": [
        {
          "output_type": "execute_result",
          "data": {
            "text/html": [
              "<div>\n",
              "<style scoped>\n",
              "    .dataframe tbody tr th:only-of-type {\n",
              "        vertical-align: middle;\n",
              "    }\n",
              "\n",
              "    .dataframe tbody tr th {\n",
              "        vertical-align: top;\n",
              "    }\n",
              "\n",
              "    .dataframe thead th {\n",
              "        text-align: right;\n",
              "    }\n",
              "</style>\n",
              "<table border=\"1\" class=\"dataframe\">\n",
              "  <thead>\n",
              "    <tr style=\"text-align: right;\">\n",
              "      <th></th>\n",
              "      <th>series_id</th>\n",
              "      <th>year</th>\n",
              "      <th>period</th>\n",
              "      <th>value</th>\n",
              "      <th>population</th>\n",
              "    </tr>\n",
              "  </thead>\n",
              "  <tbody>\n",
              "    <tr>\n",
              "      <th>1225</th>\n",
              "      <td>PRS88003203</td>\n",
              "      <td>2013</td>\n",
              "      <td>Q01</td>\n",
              "      <td>100.692</td>\n",
              "      <td>316128839</td>\n",
              "    </tr>\n",
              "    <tr>\n",
              "      <th>2455</th>\n",
              "      <td>PRS88003203</td>\n",
              "      <td>2014</td>\n",
              "      <td>Q01</td>\n",
              "      <td>103.532</td>\n",
              "      <td>318857056</td>\n",
              "    </tr>\n",
              "    <tr>\n",
              "      <th>3685</th>\n",
              "      <td>PRS88003203</td>\n",
              "      <td>2015</td>\n",
              "      <td>Q01</td>\n",
              "      <td>103.565</td>\n",
              "      <td>321418821</td>\n",
              "    </tr>\n",
              "    <tr>\n",
              "      <th>4915</th>\n",
              "      <td>PRS88003203</td>\n",
              "      <td>2016</td>\n",
              "      <td>Q01</td>\n",
              "      <td>104.116</td>\n",
              "      <td>323127515</td>\n",
              "    </tr>\n",
              "    <tr>\n",
              "      <th>6145</th>\n",
              "      <td>PRS88003203</td>\n",
              "      <td>2017</td>\n",
              "      <td>Q01</td>\n",
              "      <td>107.832</td>\n",
              "      <td>325719178</td>\n",
              "    </tr>\n",
              "    <tr>\n",
              "      <th>7375</th>\n",
              "      <td>PRS88003203</td>\n",
              "      <td>2018</td>\n",
              "      <td>Q01</td>\n",
              "      <td>109.454</td>\n",
              "      <td>327167439</td>\n",
              "    </tr>\n",
              "    <tr>\n",
              "      <th>8605</th>\n",
              "      <td>PRS88003203</td>\n",
              "      <td>2019</td>\n",
              "      <td>Q01</td>\n",
              "      <td>112.294</td>\n",
              "      <td>328239523</td>\n",
              "    </tr>\n",
              "  </tbody>\n",
              "</table>\n",
              "</div>"
            ],
            "text/plain": [
              "        series_id  year period    value  population\n",
              "1225  PRS88003203  2013    Q01  100.692   316128839\n",
              "2455  PRS88003203  2014    Q01  103.532   318857056\n",
              "3685  PRS88003203  2015    Q01  103.565   321418821\n",
              "4915  PRS88003203  2016    Q01  104.116   323127515\n",
              "6145  PRS88003203  2017    Q01  107.832   325719178\n",
              "7375  PRS88003203  2018    Q01  109.454   327167439\n",
              "8605  PRS88003203  2019    Q01  112.294   328239523"
            ]
          },
          "metadata": {},
          "execution_count": 22
        }
      ]
    },
    {
      "cell_type": "code",
      "metadata": {
        "id": "I9aKOY5_LC_A"
      },
      "source": [
        ""
      ],
      "execution_count": null,
      "outputs": []
    }
  ]
}